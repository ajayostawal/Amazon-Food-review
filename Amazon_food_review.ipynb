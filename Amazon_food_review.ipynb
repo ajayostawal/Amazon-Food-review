{
  "nbformat": 4,
  "nbformat_minor": 0,
  "metadata": {
    "colab": {
      "name": "Amazon food review.ipynb",
      "provenance": [],
      "authorship_tag": "ABX9TyPaBTrhX71WjFCMwtKk90/Y",
      "include_colab_link": true
    },
    "kernelspec": {
      "name": "python3",
      "display_name": "Python 3"
    },
    "language_info": {
      "name": "python"
    }
  },
  "cells": [
    {
      "cell_type": "markdown",
      "metadata": {
        "id": "view-in-github",
        "colab_type": "text"
      },
      "source": [
        "<a href=\"https://colab.research.google.com/github/ajayostawal/Amazon-Food-review/blob/main/Amazon_food_review.ipynb\" target=\"_parent\"><img src=\"https://colab.research.google.com/assets/colab-badge.svg\" alt=\"Open In Colab\"/></a>"
      ]
    },
    {
      "cell_type": "code",
      "metadata": {
        "colab": {
          "base_uri": "https://localhost:8080/"
        },
        "id": "ZDKtV1shVsO3",
        "outputId": "4f529a03-59bc-4494-bbb9-ee075eb90be3"
      },
      "source": [
        "!pip install vaderSentiment"
      ],
      "execution_count": 1,
      "outputs": [
        {
          "output_type": "stream",
          "text": [
            "Collecting vaderSentiment\n",
            "\u001b[?25l  Downloading https://files.pythonhosted.org/packages/76/fc/310e16254683c1ed35eeb97386986d6c00bc29df17ce280aed64d55537e9/vaderSentiment-3.3.2-py2.py3-none-any.whl (125kB)\n",
            "\r\u001b[K     |██▋                             | 10kB 14.8MB/s eta 0:00:01\r\u001b[K     |█████▏                          | 20kB 18.8MB/s eta 0:00:01\r\u001b[K     |███████▉                        | 30kB 22.4MB/s eta 0:00:01\r\u001b[K     |██████████▍                     | 40kB 25.5MB/s eta 0:00:01\r\u001b[K     |█████████████                   | 51kB 24.9MB/s eta 0:00:01\r\u001b[K     |███████████████▋                | 61kB 18.6MB/s eta 0:00:01\r\u001b[K     |██████████████████▏             | 71kB 19.8MB/s eta 0:00:01\r\u001b[K     |████████████████████▉           | 81kB 15.9MB/s eta 0:00:01\r\u001b[K     |███████████████████████▍        | 92kB 15.4MB/s eta 0:00:01\r\u001b[K     |██████████████████████████      | 102kB 16.0MB/s eta 0:00:01\r\u001b[K     |████████████████████████████▋   | 112kB 16.0MB/s eta 0:00:01\r\u001b[K     |███████████████████████████████▏| 122kB 16.0MB/s eta 0:00:01\r\u001b[K     |████████████████████████████████| 133kB 16.0MB/s \n",
            "\u001b[?25hRequirement already satisfied: requests in /usr/local/lib/python3.7/dist-packages (from vaderSentiment) (2.23.0)\n",
            "Requirement already satisfied: urllib3!=1.25.0,!=1.25.1,<1.26,>=1.21.1 in /usr/local/lib/python3.7/dist-packages (from requests->vaderSentiment) (1.24.3)\n",
            "Requirement already satisfied: certifi>=2017.4.17 in /usr/local/lib/python3.7/dist-packages (from requests->vaderSentiment) (2020.12.5)\n",
            "Requirement already satisfied: idna<3,>=2.5 in /usr/local/lib/python3.7/dist-packages (from requests->vaderSentiment) (2.10)\n",
            "Requirement already satisfied: chardet<4,>=3.0.2 in /usr/local/lib/python3.7/dist-packages (from requests->vaderSentiment) (3.0.4)\n",
            "Installing collected packages: vaderSentiment\n",
            "Successfully installed vaderSentiment-3.3.2\n"
          ],
          "name": "stdout"
        }
      ]
    },
    {
      "cell_type": "code",
      "metadata": {
        "id": "EIpaLL99fE0w"
      },
      "source": [
        "import pandas as pd\n",
        "import seaborn as sns\n",
        "import matplotlib.pyplot as plt\n",
        "from nltk.corpus import stopwords\n",
        "from wordcloud import WordCloud, STOPWORDS\n",
        "from nltk.stem import WordNetLemmatizer\n",
        "from textblob import TextBlob\n",
        "from textblob import Word\n",
        "from vaderSentiment.vaderSentiment import SentimentIntensityAnalyzer"
      ],
      "execution_count": 2,
      "outputs": []
    },
    {
      "cell_type": "code",
      "metadata": {
        "id": "4tkQLM_qwkdY"
      },
      "source": [
        "review = pd.read_csv(\"/content/Reviews.csv\")\n",
        "review.head()"
      ],
      "execution_count": null,
      "outputs": []
    },
    {
      "cell_type": "code",
      "metadata": {
        "id": "RHfQIR29SIZB"
      },
      "source": [
        "review.shape"
      ],
      "execution_count": null,
      "outputs": []
    },
    {
      "cell_type": "code",
      "metadata": {
        "id": "xTY7340eWVs0"
      },
      "source": [
        "review.isnull().sum()"
      ],
      "execution_count": null,
      "outputs": []
    },
    {
      "cell_type": "code",
      "metadata": {
        "id": "VnpvyN4rWfhL"
      },
      "source": [
        "review.info()"
      ],
      "execution_count": null,
      "outputs": []
    },
    {
      "cell_type": "code",
      "metadata": {
        "id": "mPd1Yz7mWqSL"
      },
      "source": [
        "review.dropna(inplace=True)\n",
        "review.isnull().sum()"
      ],
      "execution_count": null,
      "outputs": []
    },
    {
      "cell_type": "code",
      "metadata": {
        "id": "-sHujFBdW-BW"
      },
      "source": [
        "review.duplicated().value_counts()"
      ],
      "execution_count": null,
      "outputs": []
    },
    {
      "cell_type": "code",
      "metadata": {
        "id": "M6hyUBJQXCXs"
      },
      "source": [
        "review['sentiments'] = review['Score'].apply(lambda x : 'positive' if x > 3 else 'negative' if x < 3 else 'neutral')"
      ],
      "execution_count": null,
      "outputs": []
    },
    {
      "cell_type": "code",
      "metadata": {
        "id": "HTkdBf08XE2U"
      },
      "source": [
        "review['sentiments'].value_counts()"
      ],
      "execution_count": null,
      "outputs": []
    },
    {
      "cell_type": "code",
      "metadata": {
        "id": "hW9U9o0XXHqP"
      },
      "source": [
        "review['sentiments'].value_counts(normalize = True)"
      ],
      "execution_count": null,
      "outputs": []
    },
    {
      "cell_type": "code",
      "metadata": {
        "id": "9IspiJ6XXiEG"
      },
      "source": [
        "review.head()"
      ],
      "execution_count": null,
      "outputs": []
    },
    {
      "cell_type": "code",
      "metadata": {
        "id": "yvFJIGq2X2T0"
      },
      "source": [
        "h1=sns.histplot(review , x='Score',discrete=True)\n",
        "h1.set_xlabel('ratings',size=12)\n",
        "h1.set_title('ratings of users',size = 15)\n",
        "plt.show()"
      ],
      "execution_count": null,
      "outputs": []
    },
    {
      "cell_type": "code",
      "metadata": {
        "id": "qewqPKGdX3i8"
      },
      "source": [
        "stopwords=set(STOPWORDS)\n",
        "text = \" \".join(view for view in review.Text) + \" \".join(view for view in review.Summary)\n",
        "\n",
        "# Create and generate a word cloud image:\n",
        "wordcloud = WordCloud(background_color=\"white\", stopwords=STOPWORDS, min_word_length=4, collocation_threshold=10).generate(text)\n",
        "\n",
        "# Display the generated image:\n",
        "plt.figure(figsize=[20,20])\n",
        "plt.imshow(wordcloud, interpolation='bilinear')\n",
        "plt.axis(\"off\")\n",
        "plt.show()"
      ],
      "execution_count": null,
      "outputs": []
    },
    {
      "cell_type": "code",
      "metadata": {
        "id": "porcpGGCX9C0"
      },
      "source": [
        "ax = sns.histplot(review, x='sentiments', discrete=True)\n",
        "plt.show()"
      ],
      "execution_count": null,
      "outputs": []
    },
    {
      "cell_type": "code",
      "metadata": {
        "id": "ajxA1yfwX9Ed"
      },
      "source": [
        "reviews_negative = review[review['sentiments'] == 'negative']\n",
        "reviews_positive = review[review['sentiments'] == 'positive']\n",
        "reviews_neutral = review[review['sentiments'] == 'neutral']"
      ],
      "execution_count": null,
      "outputs": []
    },
    {
      "cell_type": "code",
      "metadata": {
        "id": "527vQExCX9H8"
      },
      "source": [
        "stopwords=set(STOPWORDS)\n",
        "text_positive = \" \".join(view for view in reviews_positive.Text) + \" \".join(view for view in reviews_positive.Summary)\n",
        "\n",
        "# Create and generate a word cloud image:\n",
        "wordcloud = WordCloud(background_color=\"white\", stopwords=STOPWORDS, min_word_length=4, collocation_threshold=10).generate(text_positive)\n",
        "\n",
        "# Display the generated image:\n",
        "plt.figure(figsize=[20,20])\n",
        "plt.imshow(wordcloud, interpolation='bilinear')\n",
        "plt.axis(\"off\")\n",
        "plt.show()"
      ],
      "execution_count": null,
      "outputs": []
    },
    {
      "cell_type": "code",
      "metadata": {
        "id": "O6Q3pvnPYHT0"
      },
      "source": [
        "stopwords=set(STOPWORDS)\n",
        "text_negative = \" \".join(view for view in reviews_negative.Text) + \" \".join(view for view in reviews_negative.Summary)\n",
        "\n",
        "# Create and generate a word cloud image:\n",
        "wordcloud = WordCloud(background_color=\"white\", stopwords=STOPWORDS, min_word_length=4, collocation_threshold=10).generate(text_negative)\n",
        "\n",
        "# Display the generated image:\n",
        "plt.figure(figsize=[20,20])\n",
        "plt.imshow(wordcloud, interpolation='bilinear')\n",
        "plt.axis(\"off\")\n",
        "plt.show()"
      ],
      "execution_count": null,
      "outputs": []
    },
    {
      "cell_type": "code",
      "metadata": {
        "id": "1N_9pbtsYHea"
      },
      "source": [
        "stopwords=set(STOPWORDS)\n",
        "text_neutral = \" \".join(view for view in reviews_neutral.Text) + \" \".join(view for view in reviews_neutral.Summary)\n",
        "\n",
        "# Create and generate a word cloud image:\n",
        "wordcloud = WordCloud(background_color=\"white\", stopwords=STOPWORDS, min_word_length=4, collocation_threshold=10).generate(text_neutral)\n",
        "\n",
        "# Display the generated image:\n",
        "plt.figure(figsize=[20,20])\n",
        "plt.imshow(wordcloud, interpolation='bilinear')\n",
        "plt.axis(\"off\")\n",
        "plt.show()"
      ],
      "execution_count": null,
      "outputs": []
    },
    {
      "cell_type": "code",
      "metadata": {
        "id": "wjrNd853YHgU"
      },
      "source": [
        "review"
      ],
      "execution_count": null,
      "outputs": []
    },
    {
      "cell_type": "code",
      "metadata": {
        "id": "BrvZi3A8YaK0"
      },
      "source": [
        "review['Text'] = review['Text'].apply(lambda x : \" \".join(x.lower() for x in x.split()))"
      ],
      "execution_count": null,
      "outputs": []
    },
    {
      "cell_type": "code",
      "metadata": {
        "id": "ZF_FNcvQYaMW"
      },
      "source": [
        "review['Text'] = review['Text'].str.replace('[^\\w\\s]', \"\")\n",
        "review.Text.head(5)"
      ],
      "execution_count": null,
      "outputs": []
    },
    {
      "cell_type": "code",
      "metadata": {
        "id": "yg_kH429YaP6"
      },
      "source": [
        "stop = set(STOPWORDS)\n",
        "review['Text'] = review['Text'].apply(lambda x : \" \".join(x for x in x.split() if x not in stop))\n",
        "review['Text']"
      ],
      "execution_count": null,
      "outputs": []
    },
    {
      "cell_type": "code",
      "metadata": {
        "id": "oKTyikReYaSw"
      },
      "source": [
        "review['Text'] = review['Text'].apply(lambda x: \" \".join([Word(word).lemmatize() for word in x.split()]))\n"
      ],
      "execution_count": null,
      "outputs": []
    },
    {
      "cell_type": "code",
      "metadata": {
        "id": "ztrqAddiYoL2"
      },
      "source": [
        "review['Text']"
      ],
      "execution_count": null,
      "outputs": []
    },
    {
      "cell_type": "code",
      "metadata": {
        "id": "4etZ2G6qYoNc"
      },
      "source": [
        "review['Text'][10]"
      ],
      "execution_count": null,
      "outputs": []
    },
    {
      "cell_type": "code",
      "metadata": {
        "id": "exf5EQYzYoP6"
      },
      "source": [
        "sia = SentimentIntensityAnalyzer()\n",
        "polarity_scores1 = sia.polarity_scores(review['Text'].iloc[10:11])\n",
        "\n",
        "print(f\"Sentiment Analysis using NLTK: \\n{review['Text'].iloc[10:11]} => {polarity_scores1}\")"
      ],
      "execution_count": null,
      "outputs": []
    },
    {
      "cell_type": "code",
      "metadata": {
        "id": "Ug1Jma47YoRO"
      },
      "source": [
        "from nltk.tokenize import sent_tokenize, word_tokenize\n",
        "\n",
        "x = np.array([[sia.polarity_scores(word)['compound'] for word in word_tokenize(review['Text'][10])]])\n",
        "annot = np.array([word_tokenize(review['Text'][10])])\n",
        "plt.figure(figsize = (100, 10))\n",
        "sns.heatmap(x, annot = annot, fmt = '')\n",
        "plt.title('Heatmap for Sentiment Analysis')\n",
        "plt.show()"
      ],
      "execution_count": null,
      "outputs": []
    },
    {
      "cell_type": "code",
      "metadata": {
        "id": "Whsglsv3YoUj"
      },
      "source": [
        "result=review['sentiments'].value_counts()\n",
        "result.plot(kind='bar', rot=0, color=['plum','cyan']);\n"
      ],
      "execution_count": null,
      "outputs": []
    },
    {
      "cell_type": "code",
      "metadata": {
        "id": "tMSOriRzYoWD"
      },
      "source": [
        ""
      ],
      "execution_count": null,
      "outputs": []
    },
    {
      "cell_type": "code",
      "metadata": {
        "id": "i_54i85pYoZz"
      },
      "source": [
        ""
      ],
      "execution_count": null,
      "outputs": []
    }
  ]
}